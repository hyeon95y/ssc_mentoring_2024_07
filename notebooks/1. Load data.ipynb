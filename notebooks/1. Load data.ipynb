{
 "cells": [
  {
   "cell_type": "markdown",
   "metadata": {},
   "source": [
    "# Import packages"
   ]
  },
  {
   "cell_type": "code",
   "execution_count": 1,
   "metadata": {},
   "outputs": [],
   "source": [
    "# isort:imports-stdlib\n",
    "\n",
    "# isort:import-localfolder\n",
    "\n",
    "\n",
    "# isort:imports-thirdparty\n",
    "import pandas as pd\n",
    "\n",
    "# isort:imports-firstparty\n",
    "from data_loader.customer.v1 import DataLoader"
   ]
  },
  {
   "cell_type": "markdown",
   "metadata": {},
   "source": [
    "# Notebook configuration"
   ]
  },
  {
   "cell_type": "code",
   "execution_count": 2,
   "metadata": {},
   "outputs": [],
   "source": [
    "%load_ext autoreload\n",
    "%autoreload 2\n",
    "pd.set_option(\"display.float_format\", lambda x: \"%.3f\" % x)"
   ]
  },
  {
   "cell_type": "markdown",
   "metadata": {},
   "source": [
    "# Load data"
   ]
  },
  {
   "cell_type": "code",
   "execution_count": 3,
   "metadata": {},
   "outputs": [],
   "source": [
    "data_loader = DataLoader()\n",
    "data = data_loader.load_data()"
   ]
  },
  {
   "cell_type": "markdown",
   "metadata": {},
   "source": [
    "# EDA"
   ]
  },
  {
   "cell_type": "code",
   "execution_count": 4,
   "metadata": {},
   "outputs": [
    {
     "data": {
      "text/html": [
       "<div>\n",
       "<style scoped>\n",
       "    .dataframe tbody tr th:only-of-type {\n",
       "        vertical-align: middle;\n",
       "    }\n",
       "\n",
       "    .dataframe tbody tr th {\n",
       "        vertical-align: top;\n",
       "    }\n",
       "\n",
       "    .dataframe thead th {\n",
       "        text-align: right;\n",
       "    }\n",
       "</style>\n",
       "<table border=\"1\" class=\"dataframe\">\n",
       "  <thead>\n",
       "    <tr style=\"text-align: right;\">\n",
       "      <th></th>\n",
       "      <th>0</th>\n",
       "      <th>1</th>\n",
       "      <th>2</th>\n",
       "      <th>3</th>\n",
       "      <th>4</th>\n",
       "    </tr>\n",
       "  </thead>\n",
       "  <tbody>\n",
       "    <tr>\n",
       "      <th>row_id</th>\n",
       "      <td>31.000</td>\n",
       "      <td>53.000</td>\n",
       "      <td>65.000</td>\n",
       "      <td>85.000</td>\n",
       "      <td>133.000</td>\n",
       "    </tr>\n",
       "    <tr>\n",
       "      <th>user_id</th>\n",
       "      <td>522576412.000</td>\n",
       "      <td>551695186.000</td>\n",
       "      <td>561472000.000</td>\n",
       "      <td>585643355.000</td>\n",
       "      <td>520792937.000</td>\n",
       "    </tr>\n",
       "    <tr>\n",
       "      <th>length_mean</th>\n",
       "      <td>10133.679</td>\n",
       "      <td>5.359</td>\n",
       "      <td>4.886</td>\n",
       "      <td>4175.083</td>\n",
       "      <td>3.326</td>\n",
       "    </tr>\n",
       "    <tr>\n",
       "      <th>start_year_mean</th>\n",
       "      <td>2019.325</td>\n",
       "      <td>2019.362</td>\n",
       "      <td>2019.000</td>\n",
       "      <td>2019.897</td>\n",
       "      <td>2019.320</td>\n",
       "    </tr>\n",
       "    <tr>\n",
       "      <th>start_yearday_mean</th>\n",
       "      <td>241.650</td>\n",
       "      <td>222.052</td>\n",
       "      <td>297.543</td>\n",
       "      <td>106.000</td>\n",
       "      <td>212.866</td>\n",
       "    </tr>\n",
       "    <tr>\n",
       "      <th>...</th>\n",
       "      <td>...</td>\n",
       "      <td>...</td>\n",
       "      <td>...</td>\n",
       "      <td>...</td>\n",
       "      <td>...</td>\n",
       "    </tr>\n",
       "    <tr>\n",
       "      <th>target_revenue</th>\n",
       "      <td>3403.830</td>\n",
       "      <td>0.000</td>\n",
       "      <td>0.000</td>\n",
       "      <td>937.860</td>\n",
       "      <td>0.000</td>\n",
       "    </tr>\n",
       "    <tr>\n",
       "      <th>target_customer_value</th>\n",
       "      <td>171.760</td>\n",
       "      <td>387.103</td>\n",
       "      <td>347.098</td>\n",
       "      <td>279.270</td>\n",
       "      <td>91.360</td>\n",
       "    </tr>\n",
       "    <tr>\n",
       "      <th>time_step</th>\n",
       "      <td>0.000</td>\n",
       "      <td>0.000</td>\n",
       "      <td>0.000</td>\n",
       "      <td>0.000</td>\n",
       "      <td>0.000</td>\n",
       "    </tr>\n",
       "    <tr>\n",
       "      <th>target_customer_value_lag1</th>\n",
       "      <td>90.148</td>\n",
       "      <td>445.168</td>\n",
       "      <td>399.163</td>\n",
       "      <td>321.608</td>\n",
       "      <td>105.065</td>\n",
       "    </tr>\n",
       "    <tr>\n",
       "      <th>target_actual_profit</th>\n",
       "      <td>-13.280</td>\n",
       "      <td>3.592</td>\n",
       "      <td>3.216</td>\n",
       "      <td>-13.186</td>\n",
       "      <td>0.732</td>\n",
       "    </tr>\n",
       "  </tbody>\n",
       "</table>\n",
       "<p>276 rows × 5 columns</p>\n",
       "</div>"
      ],
      "text/plain": [
       "                                       0             1             2  \\\n",
       "row_id                            31.000        53.000        65.000   \n",
       "user_id                    522576412.000 551695186.000 561472000.000   \n",
       "length_mean                    10133.679         5.359         4.886   \n",
       "start_year_mean                 2019.325      2019.362      2019.000   \n",
       "start_yearday_mean               241.650       222.052       297.543   \n",
       "...                                  ...           ...           ...   \n",
       "target_revenue                  3403.830         0.000         0.000   \n",
       "target_customer_value            171.760       387.103       347.098   \n",
       "time_step                          0.000         0.000         0.000   \n",
       "target_customer_value_lag1        90.148       445.168       399.163   \n",
       "target_actual_profit             -13.280         3.592         3.216   \n",
       "\n",
       "                                       3             4  \n",
       "row_id                            85.000       133.000  \n",
       "user_id                    585643355.000 520792937.000  \n",
       "length_mean                     4175.083         3.326  \n",
       "start_year_mean                 2019.897      2019.320  \n",
       "start_yearday_mean               106.000       212.866  \n",
       "...                                  ...           ...  \n",
       "target_revenue                   937.860         0.000  \n",
       "target_customer_value            279.270        91.360  \n",
       "time_step                          0.000         0.000  \n",
       "target_customer_value_lag1       321.608       105.065  \n",
       "target_actual_profit             -13.186         0.732  \n",
       "\n",
       "[276 rows x 5 columns]"
      ]
     },
     "execution_count": 4,
     "metadata": {},
     "output_type": "execute_result"
    }
   ],
   "source": [
    "data.head().T"
   ]
  },
  {
   "cell_type": "code",
   "execution_count": 5,
   "metadata": {},
   "outputs": [
    {
     "data": {
      "text/html": [
       "<div>\n",
       "<style scoped>\n",
       "    .dataframe tbody tr th:only-of-type {\n",
       "        vertical-align: middle;\n",
       "    }\n",
       "\n",
       "    .dataframe tbody tr th {\n",
       "        vertical-align: top;\n",
       "    }\n",
       "\n",
       "    .dataframe thead th {\n",
       "        text-align: right;\n",
       "    }\n",
       "</style>\n",
       "<table border=\"1\" class=\"dataframe\">\n",
       "  <thead>\n",
       "    <tr style=\"text-align: right;\">\n",
       "      <th></th>\n",
       "      <th>count</th>\n",
       "      <th>mean</th>\n",
       "      <th>std</th>\n",
       "      <th>min</th>\n",
       "      <th>25%</th>\n",
       "      <th>50%</th>\n",
       "      <th>75%</th>\n",
       "      <th>max</th>\n",
       "    </tr>\n",
       "  </thead>\n",
       "  <tbody>\n",
       "    <tr>\n",
       "      <th>row_id</th>\n",
       "      <td>112610.000</td>\n",
       "      <td>56305.500</td>\n",
       "      <td>32507.851</td>\n",
       "      <td>1.000</td>\n",
       "      <td>28153.250</td>\n",
       "      <td>56305.500</td>\n",
       "      <td>84457.750</td>\n",
       "      <td>112610.000</td>\n",
       "    </tr>\n",
       "    <tr>\n",
       "      <th>user_id</th>\n",
       "      <td>112610.000</td>\n",
       "      <td>547239643.441</td>\n",
       "      <td>28792662.408</td>\n",
       "      <td>420986446.000</td>\n",
       "      <td>518414649.000</td>\n",
       "      <td>546071025.000</td>\n",
       "      <td>568058615.000</td>\n",
       "      <td>633857738.000</td>\n",
       "    </tr>\n",
       "    <tr>\n",
       "      <th>length_mean</th>\n",
       "      <td>112610.000</td>\n",
       "      <td>1047.309</td>\n",
       "      <td>3963.163</td>\n",
       "      <td>0.000</td>\n",
       "      <td>2.507</td>\n",
       "      <td>4.099</td>\n",
       "      <td>8.144</td>\n",
       "      <td>79235.611</td>\n",
       "    </tr>\n",
       "    <tr>\n",
       "      <th>start_year_mean</th>\n",
       "      <td>112610.000</td>\n",
       "      <td>2019.260</td>\n",
       "      <td>0.328</td>\n",
       "      <td>2019.000</td>\n",
       "      <td>2019.000</td>\n",
       "      <td>2019.083</td>\n",
       "      <td>2019.457</td>\n",
       "      <td>2020.000</td>\n",
       "    </tr>\n",
       "    <tr>\n",
       "      <th>start_yearday_mean</th>\n",
       "      <td>112610.000</td>\n",
       "      <td>243.120</td>\n",
       "      <td>89.289</td>\n",
       "      <td>1.000</td>\n",
       "      <td>193.031</td>\n",
       "      <td>281.658</td>\n",
       "      <td>308.365</td>\n",
       "      <td>365.000</td>\n",
       "    </tr>\n",
       "    <tr>\n",
       "      <th>...</th>\n",
       "      <td>...</td>\n",
       "      <td>...</td>\n",
       "      <td>...</td>\n",
       "      <td>...</td>\n",
       "      <td>...</td>\n",
       "      <td>...</td>\n",
       "      <td>...</td>\n",
       "      <td>...</td>\n",
       "    </tr>\n",
       "    <tr>\n",
       "      <th>target_revenue</th>\n",
       "      <td>112610.000</td>\n",
       "      <td>2881.027</td>\n",
       "      <td>7639.039</td>\n",
       "      <td>0.000</td>\n",
       "      <td>0.000</td>\n",
       "      <td>688.015</td>\n",
       "      <td>2887.945</td>\n",
       "      <td>527776.780</td>\n",
       "    </tr>\n",
       "    <tr>\n",
       "      <th>target_customer_value</th>\n",
       "      <td>112610.000</td>\n",
       "      <td>429.597</td>\n",
       "      <td>747.131</td>\n",
       "      <td>-290.190</td>\n",
       "      <td>124.530</td>\n",
       "      <td>245.675</td>\n",
       "      <td>482.027</td>\n",
       "      <td>40582.335</td>\n",
       "    </tr>\n",
       "    <tr>\n",
       "      <th>time_step</th>\n",
       "      <td>112610.000</td>\n",
       "      <td>2.375</td>\n",
       "      <td>1.814</td>\n",
       "      <td>0.000</td>\n",
       "      <td>1.000</td>\n",
       "      <td>2.000</td>\n",
       "      <td>4.000</td>\n",
       "      <td>6.000</td>\n",
       "    </tr>\n",
       "    <tr>\n",
       "      <th>target_customer_value_lag1</th>\n",
       "      <td>112610.000</td>\n",
       "      <td>360.471</td>\n",
       "      <td>729.499</td>\n",
       "      <td>-290.190</td>\n",
       "      <td>43.966</td>\n",
       "      <td>183.334</td>\n",
       "      <td>418.039</td>\n",
       "      <td>40582.335</td>\n",
       "    </tr>\n",
       "    <tr>\n",
       "      <th>target_actual_profit</th>\n",
       "      <td>112610.000</td>\n",
       "      <td>-7.813</td>\n",
       "      <td>8.471</td>\n",
       "      <td>-13.588</td>\n",
       "      <td>-13.235</td>\n",
       "      <td>-13.146</td>\n",
       "      <td>0.888</td>\n",
       "      <td>189.966</td>\n",
       "    </tr>\n",
       "  </tbody>\n",
       "</table>\n",
       "<p>276 rows × 8 columns</p>\n",
       "</div>"
      ],
      "text/plain": [
       "                                count          mean          std  \\\n",
       "row_id                     112610.000     56305.500    32507.851   \n",
       "user_id                    112610.000 547239643.441 28792662.408   \n",
       "length_mean                112610.000      1047.309     3963.163   \n",
       "start_year_mean            112610.000      2019.260        0.328   \n",
       "start_yearday_mean         112610.000       243.120       89.289   \n",
       "...                               ...           ...          ...   \n",
       "target_revenue             112610.000      2881.027     7639.039   \n",
       "target_customer_value      112610.000       429.597      747.131   \n",
       "time_step                  112610.000         2.375        1.814   \n",
       "target_customer_value_lag1 112610.000       360.471      729.499   \n",
       "target_actual_profit       112610.000        -7.813        8.471   \n",
       "\n",
       "                                     min           25%           50%  \\\n",
       "row_id                             1.000     28153.250     56305.500   \n",
       "user_id                    420986446.000 518414649.000 546071025.000   \n",
       "length_mean                        0.000         2.507         4.099   \n",
       "start_year_mean                 2019.000      2019.000      2019.083   \n",
       "start_yearday_mean                 1.000       193.031       281.658   \n",
       "...                                  ...           ...           ...   \n",
       "target_revenue                     0.000         0.000       688.015   \n",
       "target_customer_value           -290.190       124.530       245.675   \n",
       "time_step                          0.000         1.000         2.000   \n",
       "target_customer_value_lag1      -290.190        43.966       183.334   \n",
       "target_actual_profit             -13.588       -13.235       -13.146   \n",
       "\n",
       "                                     75%           max  \n",
       "row_id                         84457.750    112610.000  \n",
       "user_id                    568058615.000 633857738.000  \n",
       "length_mean                        8.144     79235.611  \n",
       "start_year_mean                 2019.457      2020.000  \n",
       "start_yearday_mean               308.365       365.000  \n",
       "...                                  ...           ...  \n",
       "target_revenue                  2887.945    527776.780  \n",
       "target_customer_value            482.027     40582.335  \n",
       "time_step                          4.000         6.000  \n",
       "target_customer_value_lag1       418.039     40582.335  \n",
       "target_actual_profit               0.888       189.966  \n",
       "\n",
       "[276 rows x 8 columns]"
      ]
     },
     "execution_count": 5,
     "metadata": {},
     "output_type": "execute_result"
    }
   ],
   "source": [
    "data.describe().T"
   ]
  },
  {
   "cell_type": "code",
   "execution_count": 6,
   "metadata": {},
   "outputs": [
    {
     "data": {
      "text/plain": [
       "[]"
      ]
     },
     "execution_count": 6,
     "metadata": {},
     "output_type": "execute_result"
    }
   ],
   "source": [
    "[x for x in data.columns if \"churn\" in x]"
   ]
  },
  {
   "cell_type": "code",
   "execution_count": 7,
   "metadata": {},
   "outputs": [
    {
     "data": {
      "text/plain": [
       "['target_event',\n",
       " 'target_revenue',\n",
       " 'target_customer_value',\n",
       " 'target_customer_value_lag1',\n",
       " 'target_actual_profit']"
      ]
     },
     "execution_count": 7,
     "metadata": {},
     "output_type": "execute_result"
    }
   ],
   "source": [
    "[x for x in data.columns if \"target\" in x]"
   ]
  },
  {
   "cell_type": "code",
   "execution_count": 8,
   "metadata": {},
   "outputs": [
    {
     "data": {
      "text/plain": [
       "['purchase_count_mean',\n",
       " 'purchase_count_sum',\n",
       " 'purchase_count_min',\n",
       " 'purchase_count_max',\n",
       " 'purchase_count_stddev',\n",
       " 'purchase_count_cv',\n",
       " 'purchase_count_month_lag0',\n",
       " 'purchase_count_month_lag1',\n",
       " 'purchase_count_month_lag2',\n",
       " 'purchase_count_month_lag3',\n",
       " 'purchase_count_month_ma3']"
      ]
     },
     "execution_count": 8,
     "metadata": {},
     "output_type": "execute_result"
    }
   ],
   "source": [
    "[x for x in data.columns if \"purchase_count\" in x]"
   ]
  },
  {
   "cell_type": "markdown",
   "metadata": {},
   "source": [
    "# Define churn"
   ]
  },
  {
   "cell_type": "code",
   "execution_count": 9,
   "metadata": {},
   "outputs": [
    {
     "data": {
      "text/plain": [
       "churn\n",
       "0    90043\n",
       "1    22567\n",
       "Name: count, dtype: int64"
      ]
     },
     "execution_count": 9,
     "metadata": {},
     "output_type": "execute_result"
    }
   ],
   "source": [
    "# 최근 3개월 동안 구매 기록이 없는 고객을 이탈한 것으로 정의\n",
    "data[\"churn\"] = (\n",
    "    data[\n",
    "        [\n",
    "            \"purchase_count_month_lag0\",\n",
    "            \"purchase_count_month_lag1\",\n",
    "            \"purchase_count_month_lag2\",\n",
    "            \"purchase_count_month_lag3\",\n",
    "        ]\n",
    "    ].sum(axis=1)\n",
    "    == 0\n",
    ")\n",
    "\n",
    "data[\"churn\"] = data[\"churn\"].astype(int)  # True/False를 1/0으로 변환\n",
    "\n",
    "data[\"churn\"].value_counts()"
   ]
  }
 ],
 "metadata": {
  "kernelspec": {
   "display_name": "Python 3",
   "language": "python",
   "name": "python3"
  },
  "language_info": {
   "codemirror_mode": {
    "name": "ipython",
    "version": 3
   },
   "file_extension": ".py",
   "mimetype": "text/x-python",
   "name": "python",
   "nbconvert_exporter": "python",
   "pygments_lexer": "ipython3",
   "version": "3.11.5"
  }
 },
 "nbformat": 4,
 "nbformat_minor": 2
}
